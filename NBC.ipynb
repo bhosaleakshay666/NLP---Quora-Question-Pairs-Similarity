{
 "cells": [
  {
   "cell_type": "markdown",
   "id": "a612da20",
   "metadata": {},
   "source": [
    "# Naive Bayes Classifier for Quora Question Pairs"
   ]
  },
  {
   "cell_type": "markdown",
   "id": "f42691eb",
   "metadata": {},
   "source": [
    "### Importing Libraries"
   ]
  },
  {
   "cell_type": "code",
   "execution_count": 1,
   "id": "9413cf0a",
   "metadata": {},
   "outputs": [
    {
     "name": "stdout",
     "output_type": "stream",
     "text": [
      "showing info https://raw.githubusercontent.com/nltk/nltk_data/gh-pages/index.xml\n"
     ]
    }
   ],
   "source": [
    "import pandas as pd\n",
    "import numpy as np\n",
    "import os\n",
    "import nltk\n",
    "from nltk.stem import WordNetLemmatizer, PorterStemmer\n",
    "from sklearn.feature_extraction.text import CountVectorizer, TfidfVectorizer\n",
    "import re\n",
    "from nltk.corpus import stopwords\n",
    "from sklearn.model_selection import train_test_split\n",
    "from sklearn.naive_bayes import MultinomialNB\n",
    "nltk.download()\n",
    "path = \"C:/Users/aksha/Downloads/7610 Final\""
   ]
  },
  {
   "cell_type": "markdown",
   "id": "b17a00a4",
   "metadata": {},
   "source": [
    "### Import Training & Testing Dataset"
   ]
  },
  {
   "cell_type": "code",
   "execution_count": 3,
   "id": "b60fc41d",
   "metadata": {},
   "outputs": [
    {
     "name": "stdout",
     "output_type": "stream",
     "text": [
      "Total samples: 404290\n"
     ]
    },
    {
     "data": {
      "text/html": [
       "<div>\n",
       "<style scoped>\n",
       "    .dataframe tbody tr th:only-of-type {\n",
       "        vertical-align: middle;\n",
       "    }\n",
       "\n",
       "    .dataframe tbody tr th {\n",
       "        vertical-align: top;\n",
       "    }\n",
       "\n",
       "    .dataframe thead th {\n",
       "        text-align: right;\n",
       "    }\n",
       "</style>\n",
       "<table border=\"1\" class=\"dataframe\">\n",
       "  <thead>\n",
       "    <tr style=\"text-align: right;\">\n",
       "      <th></th>\n",
       "      <th>id</th>\n",
       "      <th>qid1</th>\n",
       "      <th>qid2</th>\n",
       "      <th>question1</th>\n",
       "      <th>question2</th>\n",
       "      <th>is_duplicate</th>\n",
       "    </tr>\n",
       "  </thead>\n",
       "  <tbody>\n",
       "    <tr>\n",
       "      <th>0</th>\n",
       "      <td>0</td>\n",
       "      <td>1</td>\n",
       "      <td>2</td>\n",
       "      <td>What is the step by step guide to invest in sh...</td>\n",
       "      <td>What is the step by step guide to invest in sh...</td>\n",
       "      <td>0</td>\n",
       "    </tr>\n",
       "    <tr>\n",
       "      <th>1</th>\n",
       "      <td>1</td>\n",
       "      <td>3</td>\n",
       "      <td>4</td>\n",
       "      <td>What is the story of Kohinoor (Koh-i-Noor) Dia...</td>\n",
       "      <td>What would happen if the Indian government sto...</td>\n",
       "      <td>0</td>\n",
       "    </tr>\n",
       "    <tr>\n",
       "      <th>2</th>\n",
       "      <td>2</td>\n",
       "      <td>5</td>\n",
       "      <td>6</td>\n",
       "      <td>How can I increase the speed of my internet co...</td>\n",
       "      <td>How can Internet speed be increased by hacking...</td>\n",
       "      <td>0</td>\n",
       "    </tr>\n",
       "    <tr>\n",
       "      <th>3</th>\n",
       "      <td>3</td>\n",
       "      <td>7</td>\n",
       "      <td>8</td>\n",
       "      <td>Why am I mentally very lonely? How can I solve...</td>\n",
       "      <td>Find the remainder when [math]23^{24}[/math] i...</td>\n",
       "      <td>0</td>\n",
       "    </tr>\n",
       "    <tr>\n",
       "      <th>4</th>\n",
       "      <td>4</td>\n",
       "      <td>9</td>\n",
       "      <td>10</td>\n",
       "      <td>Which one dissolve in water quikly sugar, salt...</td>\n",
       "      <td>Which fish would survive in salt water?</td>\n",
       "      <td>0</td>\n",
       "    </tr>\n",
       "    <tr>\n",
       "      <th>5</th>\n",
       "      <td>5</td>\n",
       "      <td>11</td>\n",
       "      <td>12</td>\n",
       "      <td>Astrology: I am a Capricorn Sun Cap moon and c...</td>\n",
       "      <td>I'm a triple Capricorn (Sun, Moon and ascendan...</td>\n",
       "      <td>1</td>\n",
       "    </tr>\n",
       "    <tr>\n",
       "      <th>6</th>\n",
       "      <td>6</td>\n",
       "      <td>13</td>\n",
       "      <td>14</td>\n",
       "      <td>Should I buy tiago?</td>\n",
       "      <td>What keeps childern active and far from phone ...</td>\n",
       "      <td>0</td>\n",
       "    </tr>\n",
       "    <tr>\n",
       "      <th>7</th>\n",
       "      <td>7</td>\n",
       "      <td>15</td>\n",
       "      <td>16</td>\n",
       "      <td>How can I be a good geologist?</td>\n",
       "      <td>What should I do to be a great geologist?</td>\n",
       "      <td>1</td>\n",
       "    </tr>\n",
       "    <tr>\n",
       "      <th>8</th>\n",
       "      <td>8</td>\n",
       "      <td>17</td>\n",
       "      <td>18</td>\n",
       "      <td>When do you use シ instead of し?</td>\n",
       "      <td>When do you use \"&amp;\" instead of \"and\"?</td>\n",
       "      <td>0</td>\n",
       "    </tr>\n",
       "    <tr>\n",
       "      <th>9</th>\n",
       "      <td>9</td>\n",
       "      <td>19</td>\n",
       "      <td>20</td>\n",
       "      <td>Motorola (company): Can I hack my Charter Moto...</td>\n",
       "      <td>How do I hack Motorola DCX3400 for free internet?</td>\n",
       "      <td>0</td>\n",
       "    </tr>\n",
       "  </tbody>\n",
       "</table>\n",
       "</div>"
      ],
      "text/plain": [
       "   id  qid1  qid2                                          question1  \\\n",
       "0   0     1     2  What is the step by step guide to invest in sh...   \n",
       "1   1     3     4  What is the story of Kohinoor (Koh-i-Noor) Dia...   \n",
       "2   2     5     6  How can I increase the speed of my internet co...   \n",
       "3   3     7     8  Why am I mentally very lonely? How can I solve...   \n",
       "4   4     9    10  Which one dissolve in water quikly sugar, salt...   \n",
       "5   5    11    12  Astrology: I am a Capricorn Sun Cap moon and c...   \n",
       "6   6    13    14                                Should I buy tiago?   \n",
       "7   7    15    16                     How can I be a good geologist?   \n",
       "8   8    17    18                    When do you use シ instead of し?   \n",
       "9   9    19    20  Motorola (company): Can I hack my Charter Moto...   \n",
       "\n",
       "                                           question2  is_duplicate  \n",
       "0  What is the step by step guide to invest in sh...             0  \n",
       "1  What would happen if the Indian government sto...             0  \n",
       "2  How can Internet speed be increased by hacking...             0  \n",
       "3  Find the remainder when [math]23^{24}[/math] i...             0  \n",
       "4            Which fish would survive in salt water?             0  \n",
       "5  I'm a triple Capricorn (Sun, Moon and ascendan...             1  \n",
       "6  What keeps childern active and far from phone ...             0  \n",
       "7          What should I do to be a great geologist?             1  \n",
       "8              When do you use \"&\" instead of \"and\"?             0  \n",
       "9  How do I hack Motorola DCX3400 for free internet?             0  "
      ]
     },
     "execution_count": 3,
     "metadata": {},
     "output_type": "execute_result"
    }
   ],
   "source": [
    "train = pd.read_csv(path+\"/train.csv\")\n",
    "print(\"Total samples:\",len(train))\n",
    "train.head(10)"
   ]
  },
  {
   "cell_type": "code",
   "execution_count": 4,
   "id": "08518f09",
   "metadata": {},
   "outputs": [
    {
     "name": "stdout",
     "output_type": "stream",
     "text": [
      "id              0\n",
      "qid1            0\n",
      "qid2            0\n",
      "question1       1\n",
      "question2       2\n",
      "is_duplicate    0\n",
      "dtype: int64\n"
     ]
    }
   ],
   "source": [
    "print(train.isnull().sum(axis=0))#dropping null values\n",
    "train.dropna(axis=0,inplace=True)"
   ]
  },
  {
   "cell_type": "markdown",
   "id": "102ce766",
   "metadata": {},
   "source": [
    "### Preprocessing the text"
   ]
  },
  {
   "cell_type": "markdown",
   "id": "b567f933",
   "metadata": {},
   "source": [
    "#### Lemmatize & Remove Stopwords"
   ]
  },
  {
   "cell_type": "code",
   "execution_count": 5,
   "id": "de75ee0b",
   "metadata": {},
   "outputs": [],
   "source": [
    "#preprocessing\n",
    "def preprocess(series):\n",
    "  #remove characters other than alphabets & numerics\n",
    "  words = re.sub(\"[^A-Za-z0-9]\",\" \",series).lower().split()\n",
    "\n",
    "  #lemmatize words\n",
    "  lemm = WordNetLemmatizer()\n",
    "  stpwords = stopwords.words('english')\n",
    "  lemmitized = [lemm.lemmatize(word) for word in words if word not in stpwords]\n",
    "  sent = ' '.join(lemmitized)\n",
    "  return sent"
   ]
  },
  {
   "cell_type": "code",
   "execution_count": 6,
   "id": "671a8792",
   "metadata": {},
   "outputs": [],
   "source": [
    "train['question1'] =train['question1'].apply(preprocess)#Apply preprocessing\n",
    "train['question2'] =train['question2'].apply(preprocess)"
   ]
  },
  {
   "cell_type": "markdown",
   "id": "1bed32a5",
   "metadata": {},
   "source": [
    "#### Concat Question 1 and Question 2"
   ]
  },
  {
   "cell_type": "code",
   "execution_count": 7,
   "id": "8c0c401d",
   "metadata": {},
   "outputs": [
    {
     "data": {
      "text/html": [
       "<div>\n",
       "<style scoped>\n",
       "    .dataframe tbody tr th:only-of-type {\n",
       "        vertical-align: middle;\n",
       "    }\n",
       "\n",
       "    .dataframe tbody tr th {\n",
       "        vertical-align: top;\n",
       "    }\n",
       "\n",
       "    .dataframe thead th {\n",
       "        text-align: right;\n",
       "    }\n",
       "</style>\n",
       "<table border=\"1\" class=\"dataframe\">\n",
       "  <thead>\n",
       "    <tr style=\"text-align: right;\">\n",
       "      <th></th>\n",
       "      <th>id</th>\n",
       "      <th>qid1</th>\n",
       "      <th>qid2</th>\n",
       "      <th>question1</th>\n",
       "      <th>question2</th>\n",
       "      <th>is_duplicate</th>\n",
       "      <th>combine</th>\n",
       "    </tr>\n",
       "  </thead>\n",
       "  <tbody>\n",
       "    <tr>\n",
       "      <th>0</th>\n",
       "      <td>0</td>\n",
       "      <td>1</td>\n",
       "      <td>2</td>\n",
       "      <td>step step guide invest share market india</td>\n",
       "      <td>step step guide invest share market</td>\n",
       "      <td>0</td>\n",
       "      <td>step step guide invest share market india step...</td>\n",
       "    </tr>\n",
       "    <tr>\n",
       "      <th>1</th>\n",
       "      <td>1</td>\n",
       "      <td>3</td>\n",
       "      <td>4</td>\n",
       "      <td>story kohinoor koh noor diamond</td>\n",
       "      <td>would happen indian government stole kohinoor ...</td>\n",
       "      <td>0</td>\n",
       "      <td>story kohinoor koh noor diamond would happen i...</td>\n",
       "    </tr>\n",
       "    <tr>\n",
       "      <th>2</th>\n",
       "      <td>2</td>\n",
       "      <td>5</td>\n",
       "      <td>6</td>\n",
       "      <td>increase speed internet connection using vpn</td>\n",
       "      <td>internet speed increased hacking dns</td>\n",
       "      <td>0</td>\n",
       "      <td>increase speed internet connection using vpn i...</td>\n",
       "    </tr>\n",
       "    <tr>\n",
       "      <th>3</th>\n",
       "      <td>3</td>\n",
       "      <td>7</td>\n",
       "      <td>8</td>\n",
       "      <td>mentally lonely solve</td>\n",
       "      <td>find remainder math 23 24 math divided 24 23</td>\n",
       "      <td>0</td>\n",
       "      <td>mentally lonely solve find remainder math 23 2...</td>\n",
       "    </tr>\n",
       "    <tr>\n",
       "      <th>4</th>\n",
       "      <td>4</td>\n",
       "      <td>9</td>\n",
       "      <td>10</td>\n",
       "      <td>one dissolve water quikly sugar salt methane c...</td>\n",
       "      <td>fish would survive salt water</td>\n",
       "      <td>0</td>\n",
       "      <td>one dissolve water quikly sugar salt methane c...</td>\n",
       "    </tr>\n",
       "    <tr>\n",
       "      <th>5</th>\n",
       "      <td>5</td>\n",
       "      <td>11</td>\n",
       "      <td>12</td>\n",
       "      <td>astrology capricorn sun cap moon cap rising say</td>\n",
       "      <td>triple capricorn sun moon ascendant capricorn say</td>\n",
       "      <td>1</td>\n",
       "      <td>astrology capricorn sun cap moon cap rising sa...</td>\n",
       "    </tr>\n",
       "    <tr>\n",
       "      <th>6</th>\n",
       "      <td>6</td>\n",
       "      <td>13</td>\n",
       "      <td>14</td>\n",
       "      <td>buy tiago</td>\n",
       "      <td>keep childern active far phone video game</td>\n",
       "      <td>0</td>\n",
       "      <td>buy tiago keep childern active far phone video...</td>\n",
       "    </tr>\n",
       "    <tr>\n",
       "      <th>7</th>\n",
       "      <td>7</td>\n",
       "      <td>15</td>\n",
       "      <td>16</td>\n",
       "      <td>good geologist</td>\n",
       "      <td>great geologist</td>\n",
       "      <td>1</td>\n",
       "      <td>good geologist great geologist</td>\n",
       "    </tr>\n",
       "    <tr>\n",
       "      <th>8</th>\n",
       "      <td>8</td>\n",
       "      <td>17</td>\n",
       "      <td>18</td>\n",
       "      <td>use instead</td>\n",
       "      <td>use instead</td>\n",
       "      <td>0</td>\n",
       "      <td>use instead use instead</td>\n",
       "    </tr>\n",
       "    <tr>\n",
       "      <th>9</th>\n",
       "      <td>9</td>\n",
       "      <td>19</td>\n",
       "      <td>20</td>\n",
       "      <td>motorola company hack charter motorolla dcx3400</td>\n",
       "      <td>hack motorola dcx3400 free internet</td>\n",
       "      <td>0</td>\n",
       "      <td>motorola company hack charter motorolla dcx340...</td>\n",
       "    </tr>\n",
       "  </tbody>\n",
       "</table>\n",
       "</div>"
      ],
      "text/plain": [
       "   id  qid1  qid2                                          question1  \\\n",
       "0   0     1     2          step step guide invest share market india   \n",
       "1   1     3     4                    story kohinoor koh noor diamond   \n",
       "2   2     5     6       increase speed internet connection using vpn   \n",
       "3   3     7     8                              mentally lonely solve   \n",
       "4   4     9    10  one dissolve water quikly sugar salt methane c...   \n",
       "5   5    11    12    astrology capricorn sun cap moon cap rising say   \n",
       "6   6    13    14                                          buy tiago   \n",
       "7   7    15    16                                     good geologist   \n",
       "8   8    17    18                                        use instead   \n",
       "9   9    19    20    motorola company hack charter motorolla dcx3400   \n",
       "\n",
       "                                           question2  is_duplicate  \\\n",
       "0                step step guide invest share market             0   \n",
       "1  would happen indian government stole kohinoor ...             0   \n",
       "2               internet speed increased hacking dns             0   \n",
       "3       find remainder math 23 24 math divided 24 23             0   \n",
       "4                      fish would survive salt water             0   \n",
       "5  triple capricorn sun moon ascendant capricorn say             1   \n",
       "6          keep childern active far phone video game             0   \n",
       "7                                    great geologist             1   \n",
       "8                                        use instead             0   \n",
       "9                hack motorola dcx3400 free internet             0   \n",
       "\n",
       "                                             combine  \n",
       "0  step step guide invest share market india step...  \n",
       "1  story kohinoor koh noor diamond would happen i...  \n",
       "2  increase speed internet connection using vpn i...  \n",
       "3  mentally lonely solve find remainder math 23 2...  \n",
       "4  one dissolve water quikly sugar salt methane c...  \n",
       "5  astrology capricorn sun cap moon cap rising sa...  \n",
       "6  buy tiago keep childern active far phone video...  \n",
       "7                     good geologist great geologist  \n",
       "8                            use instead use instead  \n",
       "9  motorola company hack charter motorolla dcx340...  "
      ]
     },
     "execution_count": 7,
     "metadata": {},
     "output_type": "execute_result"
    }
   ],
   "source": [
    "def concat(ser):#concatenate Question 1 & Question 2\n",
    "  print(ser['question1'])\n",
    "  return 1\n",
    "train['combine'] = train.apply(lambda ser: ser['question1'] + \" \" + ser['question2'],axis=1)\n",
    "train.head(10)"
   ]
  },
  {
   "cell_type": "markdown",
   "id": "d6cfd607",
   "metadata": {},
   "source": [
    "#### Vectorizing using TF-IDF (Converting Words to Vectors) and Splitting Dataset"
   ]
  },
  {
   "cell_type": "code",
   "execution_count": 8,
   "id": "c8c0dd8f",
   "metadata": {},
   "outputs": [
    {
     "name": "stdout",
     "output_type": "stream",
     "text": [
      "(404287, 50000)\n",
      "(384072, 50000) (20215, 50000)\n"
     ]
    }
   ],
   "source": [
    "cv = TfidfVectorizer(max_features=50000)#Word to Vectors using Tf-Idf\n",
    "\n",
    "#Take combine questions data as X\n",
    "X = cv.fit_transform(train['combine'])\n",
    "y = np.array(train['is_duplicate'])\n",
    "print(X.shape)\n",
    "\n",
    "#Tarin-Test Spilt\n",
    "X_train, X_test, y_train, y_test = train_test_split(X,y,test_size=0.05)\n",
    "print(X_train.shape,X_test.shape)"
   ]
  },
  {
   "cell_type": "markdown",
   "id": "ed587c1b",
   "metadata": {},
   "source": [
    "### Naive Bayes Modeling"
   ]
  },
  {
   "cell_type": "code",
   "execution_count": 9,
   "id": "2ade0602",
   "metadata": {},
   "outputs": [],
   "source": [
    "naive_model = MultinomialNB()#Training\n",
    "naive_model.fit(X_train,y_train)\n",
    "\n",
    "#Predictions\n",
    "y_pred_train = naive_model.predict(X_train)\n",
    "y_pred_test = naive_model.predict(X_test)"
   ]
  },
  {
   "cell_type": "markdown",
   "id": "9304d9f9",
   "metadata": {},
   "source": [
    "#### Fitting the model on testing set"
   ]
  },
  {
   "cell_type": "code",
   "execution_count": 10,
   "id": "1033b0bc",
   "metadata": {},
   "outputs": [
    {
     "name": "stdout",
     "output_type": "stream",
     "text": [
      "0.7519241183944677 0.7406381399950531\n"
     ]
    }
   ],
   "source": [
    "accuracy_train = sum((y_pred_train == y_train).astype(int))/len(y_train)\n",
    "accuracy_test = sum((y_pred_test == y_test).astype(int))/len(y_test)\n",
    "print(accuracy_train,accuracy_test)"
   ]
  },
  {
   "cell_type": "raw",
   "id": "268b7b63",
   "metadata": {},
   "source": [
    "Accuracy on the test set is 74.06%"
   ]
  }
 ],
 "metadata": {
  "kernelspec": {
   "display_name": "Python 3 (ipykernel)",
   "language": "python",
   "name": "python3"
  },
  "language_info": {
   "codemirror_mode": {
    "name": "ipython",
    "version": 3
   },
   "file_extension": ".py",
   "mimetype": "text/x-python",
   "name": "python",
   "nbconvert_exporter": "python",
   "pygments_lexer": "ipython3",
   "version": "3.9.7"
  }
 },
 "nbformat": 4,
 "nbformat_minor": 5
}
